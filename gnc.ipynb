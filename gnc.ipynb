{
 "cells": [
  {
   "cell_type": "markdown",
   "metadata": {},
   "source": [
    "task 1"
   ]
  },
  {
   "cell_type": "code",
   "execution_count": 56,
   "metadata": {},
   "outputs": [
    {
     "ename": "IndentationError",
     "evalue": "unexpected indent (2814307494.py, line 10)",
     "output_type": "error",
     "traceback": [
      "\u001b[1;36m  Cell \u001b[1;32mIn[56], line 10\u001b[1;36m\u001b[0m\n\u001b[1;33m    print(len(customer_id))\u001b[0m\n\u001b[1;37m    ^\u001b[0m\n\u001b[1;31mIndentationError\u001b[0m\u001b[1;31m:\u001b[0m unexpected indent\n"
     ]
    }
   ],
   "source": [
    "customer_id = ('B818', 'A461', 'A092', 'A082', 'B341', 'A005', 'A092', 'A461',\n",
    " 'B219', 'B904', 'A901', 'A083', 'B904', 'A092', 'B341', 'B821', \n",
    " 'B341', 'B821', 'B904', 'B818', 'A901', 'A803', 'B818', 'A082',\n",
    " 'B219', 'B219', 'A083', 'A901', 'A082', 'B341', 'B341', 'A083', \n",
    " 'A082', 'B219', 'B439', 'A461', 'A005', 'A901', 'B341', 'A082',\n",
    " 'A083', 'A461', 'A083', 'A901', 'A461', 'A083', 'A082', 'A083',\n",
    " 'B341', 'A901', 'A082', 'A461', 'B219', 'A083', 'B818', 'B821', \n",
    " 'A092', 'B341', 'A461', 'A092', 'A083', 'B821', 'A092')\n",
    "\n",
    " print(len(customer_id))"
   ]
  },
  {
   "cell_type": "markdown",
   "metadata": {},
   "source": [
    "task 2"
   ]
  },
  {
   "cell_type": "code",
   "execution_count": 1,
   "metadata": {},
   "outputs": [
    {
     "name": "stdout",
     "output_type": "stream",
     "text": [
      "16\n"
     ]
    }
   ],
   "source": [
    "data = (1, 4, 9, 16, 25, 36, 49, 64, 81, 100)\n",
    "print(data[3])"
   ]
  },
  {
   "cell_type": "code",
   "execution_count": 2,
   "metadata": {},
   "outputs": [
    {
     "name": "stdout",
     "output_type": "stream",
     "text": [
      "(36, 49, 64, 81)\n"
     ]
    }
   ],
   "source": [
    "data = (1, 4, 9, 16, 25, 36, 49, 64, 81, 100)\n",
    "print(data[5:-1])"
   ]
  },
  {
   "cell_type": "code",
   "execution_count": 50,
   "metadata": {},
   "outputs": [
    {
     "name": "stdout",
     "output_type": "stream",
     "text": [
      "(1, 4, 9, 16, 25, 36, 49, 64, 81, 100)\n"
     ]
    }
   ],
   "source": [
    "data = (1, 4, 9, 16, 25, 36, 49, 64, 81, 100)\n",
    "print(data[-10:])\n"
   ]
  },
  {
   "cell_type": "markdown",
   "metadata": {},
   "source": [
    "Task 3"
   ]
  },
  {
   "cell_type": "code",
   "execution_count": 29,
   "metadata": {},
   "outputs": [
    {
     "name": "stdout",
     "output_type": "stream",
     "text": [
      "{'Nanggro Aceh Darusalam': 'Aceh', 'Sumatera Selatan': 'Palembang', 'Kalimantan Barat': 'Pontianak', 'Jawa Timur': 'Madiun', 'Sulawesi Selatan': 'Makasar', 'Maluku': 'Ambon'}\n"
     ]
    }
   ],
   "source": [
    "provinsi = {\n",
    "'Nanggro Aceh Darusalam' : 'Aceh',\n",
    "'Sumatera Selatan' : 'Palembang',\n",
    "'Kalimantan Barat' : 'Pontianak',\n",
    "'Jawa Timur' : 'Madiun',\n",
    "'Sulawesi Selatan' : 'Makasar',\n",
    "'Maluku' : 'Ambon'\n",
    "}\n",
    "print(provinsi)\n"
   ]
  },
  {
   "cell_type": "code",
   "execution_count": 34,
   "metadata": {},
   "outputs": [
    {
     "name": "stdout",
     "output_type": "stream",
     "text": [
      "{'Nanggro Aceh Darusalam': 'Aceh', 'Sumatera Selatan': 'Palembang', 'Kalimantan Barat': 'Pontianak', 'Jawa Timur': 'Madiun', 'Sulawesi Selatan': 'Makasar', 'Maluku': 'Ambon'}\n",
      "Madiun\n",
      "{'Nanggro Aceh Darusalam': 'Aceh', 'Sumatera Selatan': 'Palembang', 'Kalimantan Barat': 'Pontianak', 'Jawa Timur': 'Surabaya', 'Sulawesi Selatan': 'Makasar', 'Maluku': 'Ambon'}\n"
     ]
    }
   ],
   "source": [
    "provinsi = {\n",
    "'Nanggro Aceh Darusalam' : 'Aceh',\n",
    "'Sumatera Selatan' : 'Palembang',\n",
    "'Kalimantan Barat' : 'Pontianak',\n",
    "'Jawa Timur' : 'Madiun',\n",
    "'Sulawesi Selatan' : 'Makasar',\n",
    "'Maluku' : 'Ambon'\n",
    "}\n",
    "print(provinsi)\n",
    "print(provinsi['Jawa Timur'])\n",
    "provinsi['Jawa Timur'] = 'Surabaya'\n",
    "print(provinsi)\n"
   ]
  }
 ],
 "metadata": {
  "kernelspec": {
   "display_name": "base",
   "language": "python",
   "name": "python3"
  },
  "language_info": {
   "codemirror_mode": {
    "name": "ipython",
    "version": 3
   },
   "file_extension": ".py",
   "mimetype": "text/x-python",
   "name": "python",
   "nbconvert_exporter": "python",
   "pygments_lexer": "ipython3",
   "version": "3.9.18"
  }
 },
 "nbformat": 4,
 "nbformat_minor": 2
}
